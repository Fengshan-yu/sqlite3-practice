{
 "cells": [
  {
   "cell_type": "code",
   "execution_count": 5,
   "id": "745f5c59",
   "metadata": {},
   "outputs": [],
   "source": [
    "import sqlite3\n",
    "\n",
    "class ToDo:\n",
    "    task_name = []\n",
    "    def __init__(self):\n",
    "        self.conn = sqlite3.connect(\"todo1.db\")\n",
    "        self.c = self.conn.cursor()\n",
    "        self.create_task_table()\n",
    "            \n",
    "    def create_task_table(self):\n",
    "        self.c.execute('''CREATE TABLE IF NOT EXISTS tasks (\n",
    "                    id INTEGER PRIMARY KEY,\n",
    "                    name TEXT NOT NULL,\n",
    "                    priority INTEGER NOT NULL\n",
    "                    );''')\n",
    "    \n",
    "    def add_task(self):\n",
    "        name = input(\"Enter task name: \")\n",
    "        priority = int(input(\"Enter priority: \"))\n",
    "        \n",
    "        self.c.execute(\"INSERT INTO tasks (name, priority) VALUES (?,?)\", (name, priority))\n",
    "        self.conn.commit()\n",
    "        \n",
    "    def find_task(self):\n",
    "        name = input(\"Enter task name: \")\n",
    "        priority = int(input(\"Enter priority: \"))\n",
    "        \n",
    "        if name ==\"\":\n",
    "            pass\n",
    "        elif priority < 1:\n",
    "            pass\n",
    "        elif name not in ToDo.task_name:\n",
    "            ToDo.task_name.append(name)\n",
    "            self.c.execute(\"SELECT * FROM tasks\")\n",
    "            rows = self.c.fetchall()\n",
    "            for row in rows:\n",
    "                if row[1]==name:\n",
    "                    print(row)\n",
    "                else:\n",
    "                    print(None) \n",
    "        elif name in ToDo.task_name:\n",
    "            pass\n",
    "               \n",
    "    \n",
    "    def change_priority(self):\n",
    "        id = int(input(\"Enter the id: \"))\n",
    "        priority = int(input(\"Enter the priority to be set: \"))\n",
    "        \n",
    "        self.c.execute(\"UPDATE tasks SET priority = ? WHERE id=?\", (priority, id))\n",
    "        self.conn.commit()\n",
    "    \n",
    "    def delete_task(self):\n",
    "        id = int(input(\"Enter the id: \"))\n",
    "        \n",
    "        self.c.execute(\"DELETE FROM tasks WHERE id = ?\",(id,))\n",
    "        self.conn.commit()\n",
    "        \n",
    "    #static method\n",
    "    def show_tasks():\n",
    "        conn = sqlite3.connect(\"todo1.db\")\n",
    "        c = conn.cursor()\n",
    "        for row in c.execute(\"SELECT * FROM tasks\"):\n",
    "            print(row)\n"
   ]
  },
  {
   "cell_type": "code",
   "execution_count": 3,
   "id": "11470361",
   "metadata": {},
   "outputs": [
    {
     "name": "stdout",
     "output_type": "stream",
     "text": [
      "Choices are: 1 for Show Tasks\n",
      " 2 for Add Task\n",
      " 3 for Change Priority\n",
      " 4 for Delete task\n",
      " 5 for Exit\n",
      "Enter your choice:2\n",
      "Enter task name: my task\n",
      "Enter priority: 3\n"
     ]
    }
   ],
   "source": [
    "my_task=ToDo()\n",
    "\n",
    "print(\"Choices are: 1 for Show Tasks\\n 2 for Add Task\\n 3 for Change Priority\\n 4 for Delete task\\n 5 for Exit\")\n",
    "choices = input(\"Enter your choice:\")\n",
    "\n",
    "for choice in choices:\n",
    "    if choice == \"1\":\n",
    "        ToDo.show_tasks()\n",
    "    elif choice == \"2\":\n",
    "        my_task.add_task()\n",
    "    elif choice == \"3\":\n",
    "        my_task.change_priority()\n",
    "    elif choice == \"4\":\n",
    "        my_task.delete_task()\n",
    "    elif choice == \"5\":\n",
    "        pass\n"
   ]
  },
  {
   "cell_type": "code",
   "execution_count": 6,
   "id": "ca2c2b2e",
   "metadata": {},
   "outputs": [
    {
     "name": "stdout",
     "output_type": "stream",
     "text": [
      "(1, 'My first task', 20)\n",
      "(2, 'My very first task', 1)\n",
      "(3, 'My second task', 50)\n",
      "(4, 'My third task', 3)\n",
      "(5, 'My next task', 30)\n",
      "(6, 'My final task', 3)\n",
      "(7, 'my task', 3)\n"
     ]
    }
   ],
   "source": [
    "ToDo.show_tasks()"
   ]
  },
  {
   "cell_type": "code",
   "execution_count": 7,
   "id": "dd0864f1",
   "metadata": {},
   "outputs": [
    {
     "name": "stdout",
     "output_type": "stream",
     "text": [
      "Enter task name: my task\n",
      "Enter priority: 4\n",
      "(7, 'my task', 3)\n",
      "None\n"
     ]
    }
   ],
   "source": [
    "my_task.find_task()"
   ]
  },
  {
   "cell_type": "markdown",
   "id": "1edd31d0",
   "metadata": {},
   "source": [
    "#### "
   ]
  }
 ],
 "metadata": {
  "kernelspec": {
   "display_name": "Python 3 (ipykernel)",
   "language": "python",
   "name": "python3"
  },
  "language_info": {
   "codemirror_mode": {
    "name": "ipython",
    "version": 3
   },
   "file_extension": ".py",
   "mimetype": "text/x-python",
   "name": "python",
   "nbconvert_exporter": "python",
   "pygments_lexer": "ipython3",
   "version": "3.9.7"
  }
 },
 "nbformat": 4,
 "nbformat_minor": 5
}
