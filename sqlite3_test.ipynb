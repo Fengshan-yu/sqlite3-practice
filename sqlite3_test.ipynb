{
 "cells": [
  {
   "cell_type": "code",
   "execution_count": 1,
   "id": "745f5c59",
   "metadata": {},
   "outputs": [],
   "source": [
    "import sqlite3\n",
    "\n",
    "\n",
    "class NameError(BaseException):\n",
    "    pass\n",
    "\n",
    "\n",
    "class ToDo:\n",
    "    task_name = []\n",
    "    def __init__(self):\n",
    "        self.conn = sqlite3.connect(\"todo1.db\")\n",
    "        self.c = self.conn.cursor()\n",
    "        self.create_task_table()\n",
    "            \n",
    "    def create_task_table(self):\n",
    "        self.c.execute('''CREATE TABLE IF NOT EXISTS tasks (\n",
    "                    id INTEGER PRIMARY KEY,\n",
    "                    name TEXT NOT NULL,\n",
    "                    priority INTEGER NOT NULL\n",
    "                    );''')\n",
    "    \n",
    "    def add_task(self):\n",
    "        name = input(\"Enter task name: \")\n",
    "        priority = int(input(\"Enter priority: \"))\n",
    "        \n",
    "        self.c.execute(\"INSERT INTO tasks (name, priority) VALUES (?,?)\", (name, priority))\n",
    "        self.conn.commit()\n",
    "        \n",
    "    def find_task_by_name(self):\n",
    "        name = input(\"Enter task name: \")\n",
    "        if name not in ToDo.task_name:\n",
    "            ToDo.task_name.append(name)\n",
    "            self.c.execute(\"SELECT * FROM tasks\")\n",
    "            rows = self.c.fetchall()\n",
    "            for row in rows:\n",
    "                if row[1]==name:\n",
    "                    print(row)\n",
    "                        \n",
    "        elif name in ToDo.task_name:\n",
    "            raise NameError(\"Name already used for searching\")\n",
    "            \n",
    "        else:\n",
    "            raise NameError(\"Something is wrong\")\n",
    "            \n",
    "    def find_task_by_priority(self):\n",
    "        priority = int(input(\"Enter priority: \"))\n",
    "        if priority == 1:\n",
    "            self.c.execute(\"SELECT * FROM tasks\")\n",
    "            rows = self.c.fetchall()\n",
    "            for row in rows:\n",
    "                if row[2]==priority:\n",
    "                    print(row)        \n",
    "        else:\n",
    "            raise NameError(\"Can not search priority lower than 1.\")\n",
    "            \n",
    "    def show_tasks():\n",
    "        conn = sqlite3.connect(\"todo1.db\")\n",
    "        c = conn.cursor()\n",
    "        for row in c.execute(\"SELECT * FROM tasks\"):\n",
    "            print(row)\n"
   ]
  },
  {
   "cell_type": "code",
   "execution_count": 2,
   "id": "84bd7b0d",
   "metadata": {},
   "outputs": [
    {
     "name": "stdout",
     "output_type": "stream",
     "text": [
      "Enter task name: My first task\n",
      "(1, 'My first task', 1)\n"
     ]
    }
   ],
   "source": [
    "my_task=ToDo()\n",
    "my_task.find_task_by_name()"
   ]
  },
  {
   "cell_type": "code",
   "execution_count": null,
   "id": "808ccdff",
   "metadata": {},
   "outputs": [],
   "source": []
  }
 ],
 "metadata": {
  "kernelspec": {
   "display_name": "Python 3 (ipykernel)",
   "language": "python",
   "name": "python3"
  },
  "language_info": {
   "codemirror_mode": {
    "name": "ipython",
    "version": 3
   },
   "file_extension": ".py",
   "mimetype": "text/x-python",
   "name": "python",
   "nbconvert_exporter": "python",
   "pygments_lexer": "ipython3",
   "version": "3.9.7"
  }
 },
 "nbformat": 4,
 "nbformat_minor": 5
}
